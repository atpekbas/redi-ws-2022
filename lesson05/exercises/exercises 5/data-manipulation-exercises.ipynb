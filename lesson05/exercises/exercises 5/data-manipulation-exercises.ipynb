{
 "cells": [
  {
   "cell_type": "code",
   "execution_count": 1,
   "metadata": {},
   "outputs": [],
   "source": [
    "import pandas as pd\n",
    "import numpy as np"
   ]
  },
  {
   "cell_type": "code",
   "execution_count": 160,
   "metadata": {},
   "outputs": [],
   "source": [
    "df = pd.read_csv('wine.csv', index_col=0)"
   ]
  },
  {
   "cell_type": "code",
   "execution_count": 161,
   "metadata": {},
   "outputs": [],
   "source": [
    "isItaly = df['country'] == 'Italy'\n",
    "lowerThan85 = df['points'] <= 85\n",
    "df_result = df[isItaly & lowerThan85]"
   ]
  },
  {
   "cell_type": "code",
   "execution_count": 163,
   "metadata": {},
   "outputs": [
    {
     "data": {
      "text/html": [
       "<div>\n",
       "<style scoped>\n",
       "    .dataframe tbody tr th:only-of-type {\n",
       "        vertical-align: middle;\n",
       "    }\n",
       "\n",
       "    .dataframe tbody tr th {\n",
       "        vertical-align: top;\n",
       "    }\n",
       "\n",
       "    .dataframe thead th {\n",
       "        text-align: right;\n",
       "    }\n",
       "</style>\n",
       "<table border=\"1\" class=\"dataframe\">\n",
       "  <thead>\n",
       "    <tr style=\"text-align: right;\">\n",
       "      <th></th>\n",
       "      <th>country</th>\n",
       "      <th>description</th>\n",
       "      <th>designation</th>\n",
       "      <th>points</th>\n",
       "      <th>price</th>\n",
       "      <th>province</th>\n",
       "      <th>region_1</th>\n",
       "      <th>region_2</th>\n",
       "      <th>taster_name</th>\n",
       "      <th>taster_twitter_handle</th>\n",
       "      <th>title</th>\n",
       "      <th>variety</th>\n",
       "      <th>winery</th>\n",
       "    </tr>\n",
       "  </thead>\n",
       "  <tbody>\n",
       "    <tr>\n",
       "      <th>52</th>\n",
       "      <td>Italy</td>\n",
       "      <td>The Monica grape often shows a rustic or raw q...</td>\n",
       "      <td>Dolia</td>\n",
       "      <td>85</td>\n",
       "      <td>14.0</td>\n",
       "      <td>Sicily &amp; Sardinia</td>\n",
       "      <td>Monica di Sardegna</td>\n",
       "      <td>NaN</td>\n",
       "      <td>NaN</td>\n",
       "      <td>NaN</td>\n",
       "      <td>Cantine di Dolianova 2010 Dolia  (Monica di Sa...</td>\n",
       "      <td>Monica</td>\n",
       "      <td>Cantine di Dolianova</td>\n",
       "    </tr>\n",
       "    <tr>\n",
       "      <th>54</th>\n",
       "      <td>Italy</td>\n",
       "      <td>A blend of Nero d'Avola and Nerello Mascalese,...</td>\n",
       "      <td>Rosso</td>\n",
       "      <td>85</td>\n",
       "      <td>NaN</td>\n",
       "      <td>Sicily &amp; Sardinia</td>\n",
       "      <td>Sicilia</td>\n",
       "      <td>NaN</td>\n",
       "      <td>NaN</td>\n",
       "      <td>NaN</td>\n",
       "      <td>Corvo 2010 Rosso Red (Sicilia)</td>\n",
       "      <td>Red Blend</td>\n",
       "      <td>Corvo</td>\n",
       "    </tr>\n",
       "    <tr>\n",
       "      <th>57</th>\n",
       "      <td>Italy</td>\n",
       "      <td>There's a touch of toasted almond at the start...</td>\n",
       "      <td>Sallier de la Tour</td>\n",
       "      <td>85</td>\n",
       "      <td>13.0</td>\n",
       "      <td>Sicily &amp; Sardinia</td>\n",
       "      <td>Sicilia</td>\n",
       "      <td>NaN</td>\n",
       "      <td>NaN</td>\n",
       "      <td>NaN</td>\n",
       "      <td>Tasca d'Almerita 2011 Sallier de la Tour Grill...</td>\n",
       "      <td>Grillo</td>\n",
       "      <td>Tasca d'Almerita</td>\n",
       "    </tr>\n",
       "  </tbody>\n",
       "</table>\n",
       "</div>"
      ],
      "text/plain": [
       "   country                                        description  \\\n",
       "52   Italy  The Monica grape often shows a rustic or raw q...   \n",
       "54   Italy  A blend of Nero d'Avola and Nerello Mascalese,...   \n",
       "57   Italy  There's a touch of toasted almond at the start...   \n",
       "\n",
       "           designation  points  price           province            region_1  \\\n",
       "52               Dolia      85   14.0  Sicily & Sardinia  Monica di Sardegna   \n",
       "54               Rosso      85    NaN  Sicily & Sardinia             Sicilia   \n",
       "57  Sallier de la Tour      85   13.0  Sicily & Sardinia             Sicilia   \n",
       "\n",
       "   region_2 taster_name taster_twitter_handle  \\\n",
       "52      NaN         NaN                   NaN   \n",
       "54      NaN         NaN                   NaN   \n",
       "57      NaN         NaN                   NaN   \n",
       "\n",
       "                                                title    variety  \\\n",
       "52  Cantine di Dolianova 2010 Dolia  (Monica di Sa...     Monica   \n",
       "54                     Corvo 2010 Rosso Red (Sicilia)  Red Blend   \n",
       "57  Tasca d'Almerita 2011 Sallier de la Tour Grill...     Grillo   \n",
       "\n",
       "                  winery  \n",
       "52  Cantine di Dolianova  \n",
       "54                 Corvo  \n",
       "57      Tasca d'Almerita  "
      ]
     },
     "execution_count": 163,
     "metadata": {},
     "output_type": "execute_result"
    }
   ],
   "source": [
    "df_result.head(3)"
   ]
  },
  {
   "cell_type": "code",
   "execution_count": 164,
   "metadata": {},
   "outputs": [
    {
     "data": {
      "text/plain": [
       "'Red Blend'"
      ]
     },
     "execution_count": 164,
     "metadata": {},
     "output_type": "execute_result"
    }
   ],
   "source": [
    "worst = df_result['variety'].value_counts().idxmax()\n",
    "worst"
   ]
  },
  {
   "cell_type": "code",
   "execution_count": 171,
   "metadata": {},
   "outputs": [],
   "source": [
    "isWorst = df['variety'] == 'Red Blend'\n",
    "df.loc[isItaly & lowerThan85 & isWorst, 'price'] = df.price * 0.8"
   ]
  }
 ],
 "metadata": {
  "kernelspec": {
   "display_name": "Python 3 (ipykernel)",
   "language": "python",
   "name": "python3"
  },
  "language_info": {
   "codemirror_mode": {
    "name": "ipython",
    "version": 3
   },
   "file_extension": ".py",
   "mimetype": "text/x-python",
   "name": "python",
   "nbconvert_exporter": "python",
   "pygments_lexer": "ipython3",
   "version": "3.10.7"
  }
 },
 "nbformat": 4,
 "nbformat_minor": 4
}
