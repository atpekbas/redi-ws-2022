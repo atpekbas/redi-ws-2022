{
 "cells": [
  {
   "cell_type": "markdown",
   "id": "71a9053c",
   "metadata": {
    "slideshow": {
     "slide_type": "slide"
    },
    "tags": []
   },
   "source": [
    "# Week 5 - Data visualisation"
   ]
  },
  {
   "cell_type": "markdown",
   "id": "76c2db23",
   "metadata": {
    "slideshow": {
     "slide_type": "subslide"
    },
    "tags": []
   },
   "source": [
    "Learning objectives: \n",
    "- explain what data visualisation is about\n",
    "- know about different visualisation tools (plotting techniques)\n",
    "- understand the differences between a figure and axis instance (matploblib)\n",
    "- do your own visualisations in Python"
   ]
  },
  {
   "cell_type": "code",
   "execution_count": null,
   "id": "3dd35406",
   "metadata": {
    "slideshow": {
     "slide_type": "skip"
    },
    "tags": []
   },
   "outputs": [],
   "source": [
    "import pandas as pd\n",
    "import numpy as np\n",
    "import matplotlib.pyplot as plt\n",
    "\n",
    "plt.rcParams[\"figure.figsize\"] = (16,9)\n",
    "plt.close(\"all\")"
   ]
  },
  {
   "cell_type": "markdown",
   "id": "42a2bd0f",
   "metadata": {
    "slideshow": {
     "slide_type": "slide"
    },
    "tags": []
   },
   "source": [
    "## What is data visualisation and why do we need it?"
   ]
  },
  {
   "cell_type": "markdown",
   "id": "a818077e",
   "metadata": {
    "slideshow": {
     "slide_type": "subslide"
    },
    "tags": []
   },
   "source": [
    "Data visualization is the graphical representation of information and data. Data visualization tools are means to understand trends, outliers, and patterns in data [1].\n",
    "\n",
    "Categorize data visualisation into:\n",
    "- exploratory analysis\n",
    "- communication of results (e.g. of your analysis) \n",
    "\n",
    "[1]: https://www.tableau.com/learn/articles/data-visualization#:~:text=Data%20visualization%20is%20the%20graphical,outliers%2C%20and%20patterns%20in%20data."
   ]
  },
  {
   "cell_type": "code",
   "execution_count": null,
   "id": "ab511d35",
   "metadata": {
    "slideshow": {
     "slide_type": "slide"
    },
    "tags": []
   },
   "outputs": [],
   "source": [
    "bikes = pd.read_csv(\"data.csv\")\n",
    "bikes[\"timestamp\"] = pd.to_datetime(bikes[\"timestamp\"],  format=\"%Y-%m-%d %H:%M:%S\")\n",
    "\n",
    "print(f\"bikes.shape: {bikes.shape}\\n\")\n",
    "bikes.head()"
   ]
  },
  {
   "cell_type": "code",
   "execution_count": null,
   "id": "05b251d7",
   "metadata": {
    "slideshow": {
     "slide_type": "skip"
    },
    "tags": []
   },
   "outputs": [],
   "source": [
    "def plot_timeseries(df, x_col, y_col):\n",
    "    fig, ax = plt.subplots()\n",
    "    ax.plot(df[x_col], df[y_col])\n",
    "    ax.set_title(\"Time series plot\")\n",
    "    ax.set_xlabel(x_col)\n",
    "    ax.set_ylabel(y_col)\n",
    "    ax.grid(which=\"both\")\n",
    "    \n",
    "    return fig, ax \n",
    "\n",
    "\n",
    "def plot_scatter(df, x_col, y_col):\n",
    "    fig, ax = plt.subplots()\n",
    "    ax.scatter(df[x_col], df[y_col])\n",
    "    ax.set_title(\"Scatter plot\")\n",
    "    ax.set_xlabel(x_col)\n",
    "    ax.set_ylabel(y_col)\n",
    "    ax.grid(which=\"both\")\n",
    "    \n",
    "    return fig, ax\n",
    "\n",
    "\n",
    "def plot_scatter_with_diagonal(df, x_col, y_col):\n",
    "    fig, ax = plt.subplots()\n",
    "    ax.scatter(df[x_col], df[y_col])\n",
    "    ax.set_title(\"Scatter plot\")\n",
    "    ax.set_xlabel(x_col)\n",
    "    ax.set_ylabel(y_col)\n",
    "    _min = min(ax.get_xlim() + ax.get_ylim())\n",
    "    _max = max(ax.get_xlim() + ax.get_ylim())\n",
    "    ax.set_xlim([_min, _max])\n",
    "    ax.set_ylim([_min, _max])\n",
    "    ax.plot([0, 1], [0, 1], transform=ax.transAxes, c=\"red\")\n",
    "    ax.grid(which=\"both\")\n",
    "    \n",
    "    return fig, ax\n",
    "\n",
    "\n",
    "def plot_pie(labels, sizes):\n",
    "    fig, ax = plt.subplots()\n",
    "    ax.pie(sizes, labels=labels, autopct='%1.1f%%',\n",
    "            shadow=True, startangle=90)\n",
    "    ax.axis('equal')  \n",
    "    \n",
    "    return fig, ax \n",
    "\n",
    "\n",
    "def plot_bar(df, label):\n",
    "    fig, ax = plt.subplots()\n",
    "    ax.bar(x=np.arange(len(df)), height=df.values)\n",
    "    ax.set_xticks(np.arange(len(df)))\n",
    "    ax.set_xticklabels(df.index.tolist())\n",
    "    ax.set_xlabel(label)\n",
    "    ax.set_ylabel(\"counts\")\n",
    "    \n",
    "    return fig, ax "
   ]
  },
  {
   "cell_type": "code",
   "execution_count": null,
   "id": "cbda0ac5",
   "metadata": {
    "slideshow": {
     "slide_type": "slide"
    },
    "tags": []
   },
   "outputs": [],
   "source": [
    "fig, ax = plot_timeseries(df=bikes, x_col=\"timestamp\", y_col=\"cnt\")"
   ]
  },
  {
   "cell_type": "code",
   "execution_count": null,
   "id": "00b27eed",
   "metadata": {
    "slideshow": {
     "slide_type": "slide"
    },
    "tags": []
   },
   "outputs": [],
   "source": [
    "fig, ax = plot_timeseries(df=bikes, x_col=\"timestamp\", y_col=\"t1\")"
   ]
  },
  {
   "cell_type": "code",
   "execution_count": null,
   "id": "2b8488b8",
   "metadata": {
    "slideshow": {
     "slide_type": "slide"
    },
    "tags": []
   },
   "outputs": [],
   "source": [
    "fig, ax = plot_scatter(df=bikes, x_col=\"t1\", y_col=\"t2\")"
   ]
  },
  {
   "cell_type": "code",
   "execution_count": null,
   "id": "0b82bba9",
   "metadata": {
    "slideshow": {
     "slide_type": "slide"
    },
    "tags": []
   },
   "outputs": [],
   "source": [
    "fig, ax = plot_scatter_with_diagonal(df=bikes, x_col=\"t1\", y_col=\"t2\")\n",
    "ax.set_xlabel(\"t1 (real temperature in C)\")\n",
    "ax.set_ylabel(\"t2 (temperature in C 'feels like')\")\n",
    "plt.show()"
   ]
  },
  {
   "cell_type": "code",
   "execution_count": null,
   "id": "4aeefdf8",
   "metadata": {
    "slideshow": {
     "slide_type": "skip"
    },
    "tags": []
   },
   "outputs": [],
   "source": [
    "# col = \"weather_code\"\n",
    "# fig, ax = plot_bar(df=bikes[col].value_counts(), label=col)\n",
    "# ax.set_title(f\"Bar plot for {col}\")\n",
    "# plt.show()"
   ]
  },
  {
   "cell_type": "code",
   "execution_count": null,
   "id": "f5b5b2d1",
   "metadata": {
    "slideshow": {
     "slide_type": "skip"
    },
    "tags": []
   },
   "outputs": [],
   "source": [
    "# col = \"weather_code\"\n",
    "# _val = bikes[col].value_counts()\n",
    "\n",
    "# fig, ax = plot_pie(labels=_val.index.astype(int).tolist(), \n",
    "#                    sizes=_val.values)\n",
    "# ax.set_title(label=f\"Pie chart for {col}\", loc=\"left\")\n",
    "# plt.show()"
   ]
  },
  {
   "cell_type": "markdown",
   "id": "e876215f",
   "metadata": {
    "slideshow": {
     "slide_type": "slide"
    },
    "tags": []
   },
   "source": [
    "## How to create your own plots?"
   ]
  },
  {
   "cell_type": "markdown",
   "id": "ba279d01",
   "metadata": {
    "slideshow": {
     "slide_type": "subslide"
    },
    "tags": []
   },
   "source": [
    "## There are a variety of different visualisation libraries available in Python. \n",
    "\n",
    "- matplotlib\n",
    "- seaborn\n",
    "- ggplot\n",
    "- bokeh\n",
    "- pygal\n",
    "- plotly\n",
    "- geoplotlib\n",
    "- gleam\n",
    "- missingno\n",
    "- leather"
   ]
  },
  {
   "cell_type": "code",
   "execution_count": null,
   "id": "6165a3c7",
   "metadata": {
    "slideshow": {
     "slide_type": "subslide"
    },
    "tags": []
   },
   "outputs": [],
   "source": [
    "import matplotlib.pyplot as plt\n",
    "\n",
    "# think of a figure as a piece of paper\n",
    "fig = plt.figure(figsize=(10, 4))  # create figure instance\n",
    "\n",
    "# think of an axis instance as a coordinate system that you place on the paper\n",
    "ax = fig.add_subplot(111)  # create axis instance\n",
    "print(type(fig), \"\\n\", type(ax))"
   ]
  },
  {
   "cell_type": "code",
   "execution_count": null,
   "id": "383d6898",
   "metadata": {
    "slideshow": {
     "slide_type": "subslide"
    },
    "tags": []
   },
   "outputs": [],
   "source": [
    "fig.suptitle(\"figure title\")  # add figure title\n",
    "fig.set_size_inches(4, 4)  # change figure size\n",
    "fig"
   ]
  },
  {
   "cell_type": "code",
   "execution_count": null,
   "id": "10e79be7",
   "metadata": {
    "slideshow": {
     "slide_type": "subslide"
    },
    "tags": []
   },
   "outputs": [],
   "source": [
    "N = 100\n",
    "ax.scatter(x=np.random.rand(N), y=np.random.rand(N))  # plot random data\n",
    "ax.set_title(\"axis title\")  \n",
    "fig.set_size_inches(16, 9)  \n",
    "fig"
   ]
  },
  {
   "cell_type": "code",
   "execution_count": null,
   "id": "25a68a6a",
   "metadata": {
    "slideshow": {
     "slide_type": "subslide"
    },
    "tags": []
   },
   "outputs": [],
   "source": [
    "fig = plt.figure()\n",
    "\n",
    "ax1 = fig.add_subplot(2, 2, 1) \n",
    "ax2 = fig.add_subplot(2, 2, 2)\n",
    "ax1.set_title(\"first axis\")\n",
    "ax2.set_title(\"second axis\")\n",
    "plt.show()"
   ]
  },
  {
   "cell_type": "code",
   "execution_count": null,
   "id": "85569e35",
   "metadata": {
    "slideshow": {
     "slide_type": "subslide"
    },
    "tags": []
   },
   "outputs": [],
   "source": [
    "fig = plt.figure(figsize=(5,5))\n",
    "\n",
    "ax1 = fig.add_subplot(2,2,1) \n",
    "ax2 = fig.add_subplot(2,2,2)\n",
    "ax3 = fig.add_subplot(2,2,3) \n",
    "ax4 = fig.add_subplot(2,2,4)\n",
    "\n",
    "ax1.set_title(\"first axis\")\n",
    "ax2.set_title(\"second axis\")\n",
    "ax3.set_title(\"third axis\")\n",
    "ax4.set_title(\"fourth axis\")\n",
    "\n",
    "fig = plt.gcf()\n",
    "plt.tight_layout()"
   ]
  },
  {
   "cell_type": "markdown",
   "id": "27360b4d",
   "metadata": {
    "slideshow": {
     "slide_type": "subslide"
    },
    "tags": []
   },
   "source": [
    "## But what if I want to create a figure with 3 rows and 5 columns?"
   ]
  },
  {
   "cell_type": "code",
   "execution_count": null,
   "id": "4f3d1d4a",
   "metadata": {
    "slideshow": {
     "slide_type": "subslide"
    },
    "tags": []
   },
   "outputs": [],
   "source": [
    "fig = plt.figure(figsize=(8, 4))\n",
    "axes = []\n",
    "n_rows, n_cols, count = 3, 5, 1\n",
    "\n",
    "for row in range(1, n_rows + 1):\n",
    "    _list = []\n",
    "    for col in range(1, n_cols + 1):\n",
    "        _list.append(fig.add_subplot(n_rows, n_cols, count))\n",
    "        count += 1\n",
    "    axes.append(np.array(_list).reshape(n_cols, 1))\n",
    "axes = np.concatenate(axes, axis=1).T\n",
    "plt.tight_layout()\n",
    "\n",
    "print(f\"axes.shape: {axes.shape}\")"
   ]
  },
  {
   "cell_type": "code",
   "execution_count": null,
   "id": "5f8f1955",
   "metadata": {
    "slideshow": {
     "slide_type": "subslide"
    },
    "tags": []
   },
   "outputs": [],
   "source": [
    "N = 100\n",
    "axes[1, 2].scatter(np.random.rand(N), np.random.rand(N))\n",
    "fig"
   ]
  },
  {
   "cell_type": "markdown",
   "id": "ec273c1f",
   "metadata": {
    "slideshow": {
     "slide_type": "subslide"
    },
    "tags": []
   },
   "source": [
    "## There is a much easier and smarter way"
   ]
  },
  {
   "cell_type": "code",
   "execution_count": null,
   "id": "d32c3f77",
   "metadata": {
    "slideshow": {
     "slide_type": "subslide"
    },
    "tags": []
   },
   "outputs": [],
   "source": [
    "fig, axes = plt.subplots(nrows=n_rows, ncols=n_cols, figsize=(8, 4))\n",
    "print(f\"type(axes): {type(axes)}, axes.shape: {axes.shape}\\n\")\n",
    "axes[1, 2].scatter(np.random.rand(N), np.random.rand(N))\n",
    "plt.tight_layout()"
   ]
  },
  {
   "cell_type": "markdown",
   "id": "6909a47e",
   "metadata": {
    "slideshow": {
     "slide_type": "slide"
    },
    "tags": []
   },
   "source": [
    "## Let's plot some data"
   ]
  },
  {
   "cell_type": "code",
   "execution_count": null,
   "id": "f028b827",
   "metadata": {
    "slideshow": {
     "slide_type": "subslide"
    },
    "tags": []
   },
   "outputs": [],
   "source": [
    "fig, ax = plt.subplots()\n",
    "x_values = [0, 1, 2, 3, 4, 5]\n",
    "y_values = [100, 90, 100, 90, 100, 90]\n",
    "ax.scatter(x_values, y_values)\n",
    "ax.grid(which=\"both\")\n",
    "plt.tight_layout()"
   ]
  },
  {
   "cell_type": "code",
   "execution_count": null,
   "id": "02ae895e",
   "metadata": {
    "slideshow": {
     "slide_type": "subslide"
    },
    "tags": []
   },
   "outputs": [],
   "source": [
    "# a lineplot interpolates between each pair of points\n",
    "fig, axes = plt.subplots(nrows=2)\n",
    "axes[0].scatter(x_values, y_values)\n",
    "axes[1].plot(x_values, y_values)\n",
    "_ = [_ax.grid(which=\"both\") for _ax in axes]\n",
    "plt.tight_layout()"
   ]
  },
  {
   "cell_type": "code",
   "execution_count": null,
   "id": "7a3194f8",
   "metadata": {
    "slideshow": {
     "slide_type": "subslide"
    },
    "tags": []
   },
   "outputs": [],
   "source": [
    "# plot multiple times in the same axis instance \n",
    "fig, ax = plt.subplots()\n",
    "ax.scatter(x_values, y_values, s=150)\n",
    "ax.plot(x_values, y_values, marker=\"x\", markersize=25, color=\"red\")\n",
    "ax.grid(which=\"both\")\n",
    "plt.tight_layout()"
   ]
  },
  {
   "cell_type": "markdown",
   "id": "f80ea62f",
   "metadata": {
    "slideshow": {
     "slide_type": "subslide"
    },
    "tags": []
   },
   "source": [
    "### pyplot works with a variety of data types "
   ]
  },
  {
   "cell_type": "code",
   "execution_count": null,
   "id": "da87014d",
   "metadata": {
    "slideshow": {
     "slide_type": "subslide"
    },
    "tags": []
   },
   "outputs": [],
   "source": [
    "x_arr, y_arr = np.array(x_values), np.array(y_values)\n",
    "df = pd.DataFrame(data=[x_arr, y_arr], index=[\"x\", \"y\"]).T\n",
    "\n",
    "fig, axes = plt.subplots(nrows=3, sharex=\"all\", figsize=(12, 6))\n",
    "axes[0].plot(x_values, y_values, color=\"green\")\n",
    "axes[1].plot(x_arr, y_arr, color=\"red\")\n",
    "axes[2].plot(df[\"x\"], df[\"y\"], color=\"blue\")\n",
    "\n",
    "_ = [[axes[i].set_title(_title), axes[i].grid(which=\"both\")] for i, _title in enumerate([\"list\", \"array\", \"series\"])]\n",
    "plt.tight_layout()"
   ]
  },
  {
   "cell_type": "code",
   "execution_count": null,
   "id": "f2eacb40",
   "metadata": {
    "slideshow": {
     "slide_type": "subslide"
    },
    "tags": []
   },
   "outputs": [],
   "source": [
    "# matplotlib works also nicely with datetime objects\n",
    "N = 24 \n",
    "np.random.seed(42)\n",
    "data = np.random.normal(0, 1, 2 * N).reshape([N,2]).cumsum(axis=0)\n",
    "df = pd.DataFrame(data=data, \n",
    "                  index=pd.date_range(start=\"04-05-2021 17:00:00\", freq=\"1H\", periods=N), \n",
    "                  columns=[\"signal1\", \"signal2\"])\n",
    "\n",
    "fig, ax = plt.subplots(figsize=(16, 6))\n",
    "ax.plot(df.index, df[\"signal1\"], marker=\"x\", label=\"signal1\", color=\"red\")\n",
    "ax.plot(df.index, df[\"signal2\"], marker=\"x\", label=\"signal2\", color=\"black\",linestyle=\"--\")\n",
    "ax.set_xticks(df.index)\n",
    "ax.set_xticklabels(df.index, rotation=90)\n",
    "ax.legend()\n",
    "ax.grid(which=\"both\")\n",
    "plt.tight_layout()"
   ]
  }
 ],
 "metadata": {
  "kernelspec": {
   "display_name": "Python 3 (ipykernel)",
   "language": "python",
   "name": "python3"
  },
  "language_info": {
   "codemirror_mode": {
    "name": "ipython",
    "version": 3
   },
   "file_extension": ".py",
   "mimetype": "text/x-python",
   "name": "python",
   "nbconvert_exporter": "python",
   "pygments_lexer": "ipython3",
   "version": "3.10.7"
  },
  "toc-showmarkdowntxt": false
 },
 "nbformat": 4,
 "nbformat_minor": 5
}
