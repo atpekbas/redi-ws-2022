{
 "cells": [
  {
   "cell_type": "markdown",
   "id": "3d23b463-7001-4366-b526-343acbbe1872",
   "metadata": {
    "slideshow": {
     "slide_type": "slide"
    },
    "tags": []
   },
   "source": [
    "# Time Series with ARIMA"
   ]
  },
  {
   "cell_type": "markdown",
   "id": "4639ecd1-81d7-4f2c-95c5-c82a80d91e98",
   "metadata": {
    "slideshow": {
     "slide_type": "slide"
    },
    "tags": []
   },
   "source": [
    "## A few of questions..."
   ]
  },
  {
   "cell_type": "markdown",
   "id": "ccb87b7f-2c20-41f7-8fd1-84fab7479232",
   "metadata": {
    "slideshow": {
     "slide_type": "subslide"
    },
    "tags": []
   },
   "source": [
    "### 1. What is Time series analysis?"
   ]
  },
  {
   "cell_type": "markdown",
   "id": "cbd1603b-3bca-4eb5-9e5f-f304641e4ae6",
   "metadata": {
    "slideshow": {
     "slide_type": "fragment"
    },
    "tags": []
   },
   "source": [
    "Time Series is a series of observations taken at specified time intervals usually equal intervals. Analysis of the series helps us to predict future values based on previous observed values. In Time series, we have only 2 variables, time & the variable we want to forecast."
   ]
  },
  {
   "cell_type": "markdown",
   "id": "2fdd7789-cc96-417b-b838-ce70b8432699",
   "metadata": {
    "slideshow": {
     "slide_type": "subslide"
    },
    "tags": []
   },
   "source": [
    "### 2. Why & where Time Series is used?"
   ]
  },
  {
   "cell_type": "markdown",
   "id": "6549e6e5-eefc-4c6e-b4cb-a0f7a200316d",
   "metadata": {
    "slideshow": {
     "slide_type": "fragment"
    },
    "tags": []
   },
   "source": [
    "Time series data can be analysed in order to extract meaningful statistics and other charecteristsics. It's used in atleast the 4 scenarios:\n",
    "- Business Forecasting\n",
    "- Understand past behavior\n",
    "- Plan the future\n",
    "- Evaluate current accomplishment"
   ]
  },
  {
   "cell_type": "markdown",
   "id": "c96d3411-b8e3-4c90-ba28-2e92a671c78f",
   "metadata": {
    "slideshow": {
     "slide_type": "subslide"
    },
    "tags": []
   },
   "source": [
    "### 3. When shouldn't we use Time Series Analysis?"
   ]
  },
  {
   "cell_type": "markdown",
   "id": "57a241f9-c912-4f2e-af89-ef0be16e8c38",
   "metadata": {
    "slideshow": {
     "slide_type": "fragment"
    },
    "tags": []
   },
   "source": [
    "We don't need to apply Time series in atleast the following 2 cases:\n",
    "- The dependant variable(y) (that is supposed to vary with time) is constant. Eq: y=f(x)=4, a line parallel to x-axis(time) will always remain the same.\n",
    "- The dependant variable(y) represent values that can be denoted as a mathematical function. Eq: sin(x), log(x), Polynomials etc. Thus, we can directly get value at some time using the function itself. No need of forecasting."
   ]
  },
  {
   "cell_type": "markdown",
   "id": "7c68d4c5-397e-4c99-a269-f11d75c99ad8",
   "metadata": {
    "slideshow": {
     "slide_type": "subslide"
    },
    "tags": []
   },
   "source": [
    "### 4. What are the components of Time Series?"
   ]
  },
  {
   "cell_type": "markdown",
   "id": "d0b43514-2602-42c1-9ed9-5b41b0b6f3af",
   "metadata": {
    "slideshow": {
     "slide_type": "fragment"
    },
    "tags": []
   },
   "source": [
    "There are 4 components:\n",
    "- Trend - Upward & downward movement of the data with time over a large period of time. Eq: Appreciation of Dollar vs rupee.\n",
    "- Seasonality - seasonal variances. Eq: Ice cream sales increases in Summer only\n",
    "- Noise or Irregularity - Spikes & troughs at random intervals\n",
    "- Cyclicity - behavior that repeats itself after large interval of time, like months, years etc."
   ]
  },
  {
   "cell_type": "markdown",
   "id": "7771b6dc-09e0-4fc0-aba0-942ba6009024",
   "metadata": {
    "slideshow": {
     "slide_type": "subslide"
    },
    "tags": []
   },
   "source": [
    "### 5. What is Stationarity?"
   ]
  },
  {
   "cell_type": "markdown",
   "id": "9523df45-0a65-4df7-8ca5-6cd4e62d6272",
   "metadata": {
    "slideshow": {
     "slide_type": "fragment"
    },
    "tags": []
   },
   "source": [
    "Before applying any statistical model on a Time Series, the series has to be staionary, which means that, over different time periods,\n",
    "- It should have constant mean.\n",
    "- It should have constant variance or standard deviation.\n",
    "- covariance should not depend on time.\n",
    "\n",
    "Trend & Seasonality are two reasons why a Time Series is not stationaru & hence need to be corrected."
   ]
  },
  {
   "cell_type": "markdown",
   "id": "1b136118-88ae-4b73-aceb-d4462e47518f",
   "metadata": {
    "slideshow": {
     "slide_type": "subslide"
    },
    "tags": []
   },
   "source": [
    "### 6. Why does Time Series(TS) need to be stationary?"
   ]
  },
  {
   "cell_type": "markdown",
   "id": "b9f48dae-a1c7-44c2-a321-fbe4d7bbddcb",
   "metadata": {
    "slideshow": {
     "slide_type": "fragment"
    },
    "tags": []
   },
   "source": [
    "It is because of the following reasons:\n",
    "- If a TS has a particular behavior over a time interval, then there's a high probability that over a different interval, it will have same behavior, provided TS is stationary. This helps in forecasting accurately.\n",
    "- Theories & Mathematical formulas ae more mature & easier to apply for as TS which is stationary."
   ]
  },
  {
   "cell_type": "markdown",
   "id": "9eade98d-fdb0-4842-8d21-79c77f16a811",
   "metadata": {
    "slideshow": {
     "slide_type": "subslide"
    },
    "tags": []
   },
   "source": [
    "### 7. Tests to check if a series is stationary or not"
   ]
  },
  {
   "cell_type": "markdown",
   "id": "31309277-24ee-425e-9ec5-66b90c979687",
   "metadata": {
    "slideshow": {
     "slide_type": "fragment"
    },
    "tags": []
   },
   "source": [
    "There are 2 ways to check for Stationarity of a TS:\n",
    "- Rolling Statistics - Plot the moving avg or moving standard deviation to see if it varies with time. Its a visual technique.\n",
    "- ADF Test - Augmented Dickey–Fuller test is used to gives us various values that can help in identifying stationarity. The Null hypothesis says that a TS is non-stationary. It comprises of a Test Statistics & some critical values for some confidence levels. If the Test statistics is less than the critical values, we can reject the null hypothesis & say that the series is stationary. The ADF test also gives us a p-value. Acc to the null hypothesis, lower values of p is better."
   ]
  },
  {
   "cell_type": "markdown",
   "id": "12d392e5-4f02-4c7c-a978-1eba4db083f0",
   "metadata": {
    "slideshow": {
     "slide_type": "subslide"
    },
    "tags": []
   },
   "source": [
    "### 8. What is ARIMA model?"
   ]
  },
  {
   "cell_type": "markdown",
   "id": "d0a3d25c-eaaa-45de-8746-8980ed8b3bcd",
   "metadata": {
    "slideshow": {
     "slide_type": "fragment"
    },
    "tags": []
   },
   "source": [
    "ARIMA(Auto Regressive Integrated Moving Average) is a combination of 2 models AR(Auto Regressive) & MA(Moving Average). It has 3 hyperparameters:\n",
    "- P(auto regressive lags)\n",
    "- d(order of differentiation)\n",
    "- Q(moving avg.),\n",
    "\n",
    "which respectively comes from the AR, I & MA components.\n",
    "\n",
    "The AR part is correlation between prev & current time periods. To smooth out the noise, the MA part is used. The I part binds together the AR & MA parts."
   ]
  },
  {
   "cell_type": "markdown",
   "id": "9d9a3718-74ef-49e1-bd87-e68b5935e8cd",
   "metadata": {
    "slideshow": {
     "slide_type": "subslide"
    },
    "tags": []
   },
   "source": [
    "### 9. How to find value of P & Q for ARIMA ?"
   ]
  },
  {
   "cell_type": "markdown",
   "id": "ddccf020-0058-4d64-b013-6da3717a1316",
   "metadata": {
    "slideshow": {
     "slide_type": "fragment"
    },
    "tags": []
   },
   "source": [
    "We need to take help of ACF(Auto Correlation Function) & PACF(Partial Auto Correlation Function) plots. ACF & PACF graphs are used to find value of P & Q for ARIMA. We need to check, for which value in x-axis, graph line drops to 0 in y-axis for 1st time.\n",
    "\n",
    "- From PACF(at y=0), get P\n",
    "- From ACF(at y=0), get Q"
   ]
  },
  {
   "cell_type": "markdown",
   "id": "026cfc89-3ad7-4f9c-9449-4ee30eee6831",
   "metadata": {
    "slideshow": {
     "slide_type": "subslide"
    },
    "tags": []
   },
   "source": [
    "### 10. What Is ADF test?"
   ]
  },
  {
   "cell_type": "markdown",
   "id": "9d0d1c40-6286-40f5-b542-1b58ea95a043",
   "metadata": {
    "slideshow": {
     "slide_type": "fragment"
    },
    "tags": []
   },
   "source": [
    "In statistics and econometrics, an augmented Dickey–Fuller test (ADF) tests the null hypothesis that a unit root is present in a time series sample. The alternative hypothesis is different depending on which version of the test is used, but is usually stationarity or trend-stationarity. It is an augmented version of the Dickey–Fuller test for a larger and more complicated set of time series models.\n",
    "\n",
    "The augmented Dickey–Fuller (ADF) statistic, used in the test, is a negative number. The more negative it is, the stronger the rejection of the hypothesis that there is a unit root at some level of confidence.\n",
    "\n",
    "p value(0<=p<=1) should be as low as possible. Critical values at different confidence intervals should be close to the Test statistics value."
   ]
  },
  {
   "cell_type": "markdown",
   "id": "a823abe7-c295-44b4-9bb8-f50639897adb",
   "metadata": {
    "slideshow": {
     "slide_type": "subslide"
    },
    "tags": []
   },
   "source": [
    "### 11. What is Exponential Smoothing?"
   ]
  },
  {
   "cell_type": "markdown",
   "id": "548d1d04-bcfc-4c04-96f5-d2e1aa4cfdbf",
   "metadata": {
    "slideshow": {
     "slide_type": "fragment"
    },
    "tags": []
   },
   "source": [
    "*Exponential smoothing* is a rule of thumb technique for smoothing time series data using the exponential window function. Whereas in the simple moving average the past observations are weighted equally, exponential functions are used to assign exponentially decreasing weights over time. It is an easily learned and easily applied procedure for making some determination based on prior assumptions by the user, such as seasonality. Exponential smoothing is often used for analysis of time-series data.\n",
    "\n",
    "The raw data sequence is often represented by ${x_{t}}$ beginning at time $t=0$, and the output of the exponential smoothing algorithm is commonly written as ${s_{t}}$, which may be regarded as a best estimate of what the next value of $x$ will be. When the sequence of observations begins at time $t=0$, the simplest form of exponential smoothing is given by the formulas:  \n",
    "\n",
    "$s_{0} = x_{0}$  \n",
    "$s_{t} = α*x_{t} + (1-α)*s_{t-1}$  , $t>0$  \n",
    "\n",
    "where $α$ is the smoothing factor, and $0<α<1$."
   ]
  },
  {
   "cell_type": "markdown",
   "id": "59dd4995-ec59-440d-9a1e-64b22eddfc0f",
   "metadata": {
    "slideshow": {
     "slide_type": "subslide"
    },
    "tags": []
   },
   "source": [
    "### 12. What is Exponential decay?"
   ]
  },
  {
   "cell_type": "markdown",
   "id": "ed81acb7-1797-4dd8-9318-b6c7b33fc31c",
   "metadata": {
    "slideshow": {
     "slide_type": "fragment"
    },
    "tags": []
   },
   "source": [
    "A quantity is subject to exponential decay if it decreases at a rate proportional to its current value. Symbolically, this process can be expressed by the following differential equation, where N is the quantity and λ (lambda) is a positive rate called the exponential decay constant:\n",
    "\n",
    "$dN/dt = -λN$\n",
    "\n",
    "The solution to this equation (see derivation below) is:  \n",
    "$N(t) = N_{0}*e^{-λt}$  \n",
    "\n",
    "where N(t) is the quantity at time t, and N0 = N(0) is the initial quantity, i.e. the quantity at time t = 0.  \n",
    "\n",
    "**Half Life** is the time required for the decaying quantity to fall to one half of its initial value. It is denoted by $t_{1/2}$. The half-life can be written in terms of the decay constant as:  \n",
    "\n",
    "$t_{1/2} = ln(2)/λ$  "
   ]
  },
  {
   "cell_type": "markdown",
   "id": "73a5ab04-2012-4249-80bb-66289cb423b6",
   "metadata": {
    "slideshow": {
     "slide_type": "slide"
    },
    "tags": []
   },
   "source": [
    "### Time Series\n",
    "\n",
    "Data points that are observed at specified times usually at equal intervals are referred to as time series data. Time series is very important in real life since most data are measured in time consecutive manner. Ex: Stock prices being recorded every second.\n",
    "\n",
    "Time series analysis are used to predict the future. For example using past 12 months sales data to predict next n month sales therefore we could act accordingly.\n",
    "\n",
    "Four components that explains time series data:\n",
    "\n",
    "- **Trend**: Upward, downward, or stationary. If your company sales increase every year it is showing an upward trend.\n",
    "- **Seaonality**: Repeating pattern in certain period. Ex: difference between summer and winter. Also includes special holidays\n",
    "- **Irregularity**: External factors that affect time series data such as Covid, natural disasters.\n",
    "- **Cyclic**: repeating up and down time series data.\n"
   ]
  },
  {
   "cell_type": "markdown",
   "id": "a04dd3ca-a1aa-41d8-8d0a-f1de5bef023e",
   "metadata": {
    "slideshow": {
     "slide_type": "slide"
    },
    "tags": []
   },
   "source": [
    "### ARIMA\n",
    "\n",
    "**A**uto **R**egressive **I**ntegrated **M**oving **A**verage, a.k.a Box-Jenkins method.\n",
    "\n",
    "- It is class of models that forecasts using own past values: lag values and lagged forecast errors.\n",
    "- AR model uses lag values to forecast\n",
    "- MA model uses lagged forecast errors to forecast\n",
    "- Two models Integrated becomes ARIMA (“I” stands for Integrated)\n",
    "- Consists of three parameters: p, q, d"
   ]
  },
  {
   "cell_type": "markdown",
   "id": "864bc6e9-f5a7-450a-adbe-9419b1cef689",
   "metadata": {
    "slideshow": {
     "slide_type": "fragment"
    },
    "tags": []
   },
   "source": [
    "ARIMA a naive model, it assumes time series data we are working with satisfies following conditions:\n",
    "1. “non-seasonal” meaning different seasons do not affect its values. When there exists seasonality we use SARIMA short for Seasonal ARIMA model\n",
    "2. No Irregularity. Ex: No irregular events like Covid that affect our data\n",
    "\n",
    "Now we know what ARIMA model is and what it expects lets talk about what parameters it has in more detail"
   ]
  },
  {
   "cell_type": "markdown",
   "id": "10eb1e4e-dac4-4283-8d6c-741f543a67a7",
   "metadata": {
    "slideshow": {
     "slide_type": "subslide"
    },
    "tags": []
   },
   "source": [
    "### Parameters\n",
    "**p**: order of AR term\n",
    "- Number of lags of Y to be used as predictors. In other words, If you are trying to predict June’s sale how many previous(lag) month’s data are you going to use?\n",
    "\n",
    "**q**: order of MA term\n",
    "- Number of lagged forecast errors -> how many past forecast errors will you use?\n",
    "\n",
    "**d**: Minimum differncing period\n",
    "- Minimum number of differencing needed to make time series data stationary.\n",
    "- Already stationary data would have d = 0."
   ]
  }
 ],
 "metadata": {
  "kernelspec": {
   "display_name": "Python 3 (ipykernel)",
   "language": "python",
   "name": "python3"
  },
  "language_info": {
   "codemirror_mode": {
    "name": "ipython",
    "version": 3
   },
   "file_extension": ".py",
   "mimetype": "text/x-python",
   "name": "python",
   "nbconvert_exporter": "python",
   "pygments_lexer": "ipython3",
   "version": "3.11.0"
  }
 },
 "nbformat": 4,
 "nbformat_minor": 5
}
